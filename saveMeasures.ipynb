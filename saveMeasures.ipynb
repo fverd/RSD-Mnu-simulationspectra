{
 "cells": [
  {
   "cell_type": "code",
   "execution_count": 1,
   "metadata": {},
   "outputs": [],
   "source": [
    "import pbi4 as pb\n",
    "import numpy as np\n",
    "import matplotlib.pyplot as plt\n",
    "from scipy.interpolate import interp1d, interp2d\n",
    "\n",
    "twopi3=(2*np.pi)**3\n",
    "box = 1000\n",
    "grid = 128\n",
    "plt.rcParams.update({\n",
    "    \"text.usetex\": True,\n",
    "    \"font.family\": \"serif\",\n",
    "    \"font.serif\": [\"Computer Modern\"],\n",
    "})\n",
    "# plt.rcdefaults()"
   ]
  },
  {
   "cell_type": "markdown",
   "metadata": {},
   "source": [
    "quijote fiducial"
   ]
  },
  {
   "cell_type": "code",
   "execution_count": 16,
   "metadata": {},
   "outputs": [],
   "source": [
    "loadf = '/home/fverdian/Mnu_halo_bias/z1p0/z1p0-cross-mes/fid-auto-cross_pbi4.npz'\n",
    "savepath = '/home/fverdian/Mnu_halo_bias/misure_for_PRD/QUIJOTE/z1p0/'\n",
    "\n",
    "\n",
    "mes = np.load(loadf)\n",
    "\n",
    "keys_tosave = ['k', 'c', 'hr', 'hzhz0', 'hzhz2', 'hzhz4', 'hrc', 'hz0hr', 'hz2hr', 'hz0c', 'hz2c', 'hz4c','pSN']\n",
    "headstr = 'k, P_{cc}, P_{hh,r}, P_{hh,0}, P_{hh,2}, P_{hh,4}, P_{hc,r}, P_{hc,0}, P_{hc,2}, P_{hc,4}, P_pSN'\n",
    "\n",
    "Nsim = mes['k'].shape[0]\n",
    "for i in range(Nsim):\n",
    "    savevect = np.array([mes[k][i] for k in keys_tosave]).T\n",
    "    np.savetxt(savepath+f'/P_LCDM_{i}.txt', savevect, header=headstr+'\\n Realization '+str(i))\n"
   ]
  },
  {
   "cell_type": "code",
   "execution_count": 18,
   "metadata": {},
   "outputs": [],
   "source": [
    "# Quijote Mnu\n",
    "loadf = '/home/fverdian/Mnu_halo_bias/z1p0/z1p0-cross-mes/Mnu-auto-cross_pbi4.npz'\n",
    "savepath = '/home/fverdian/Mnu_halo_bias/misure_for_PRD/QUIJOTE/z1p0/'\n",
    "\n",
    "mes_mnu = np.load(loadf)\n",
    "keys_tosave = ['k', 'c', 'hr', 'hzhz0', 'hzhz2', 'hzhz4', 'mc', 'hrc', 'hz0hr', 'hz2hr', 'hz0c', 'hz2c', 'hz4c', 'pSN']\n",
    "headstr = 'k, P_{cc}, P_{hh,r}, P_{hh,0}, P_{hh,2}, P_{hh,4}, P_{cm}, P_{hc,r}, P_{hc,0}, P_{hc,2}, P_{hc,4}, P_pSN'\n",
    "\n",
    "Nsim = mes_mnu['k'].shape[0]\n",
    "for i in range(Nsim):\n",
    "    savevect = np.array([mes_mnu[k][i] for k in keys_tosave]).T\n",
    "    np.savetxt(savepath+f'/P_Mnu0p4_{i}.txt', savevect, header=headstr+'\\n Realization '+str(i))\n"
   ]
  }
 ],
 "metadata": {
  "kernelspec": {
   "display_name": "base",
   "language": "python",
   "name": "python3"
  },
  "language_info": {
   "codemirror_mode": {
    "name": "ipython",
    "version": 3
   },
   "file_extension": ".py",
   "mimetype": "text/x-python",
   "name": "python",
   "nbconvert_exporter": "python",
   "pygments_lexer": "ipython3",
   "version": "3.10.13"
  },
  "orig_nbformat": 4
 },
 "nbformat": 4,
 "nbformat_minor": 2
}
